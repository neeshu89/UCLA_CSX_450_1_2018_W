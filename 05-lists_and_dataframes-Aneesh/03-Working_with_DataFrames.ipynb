{
 "cells": [
  {
   "cell_type": "markdown",
   "metadata": {},
   "source": [
    "## Working with Dataframes"
   ]
  },
  {
   "cell_type": "markdown",
   "metadata": {},
   "source": [
    "### Loading a CSV into a DataFrame"
   ]
  },
  {
   "cell_type": "code",
   "execution_count": 1,
   "metadata": {},
   "outputs": [],
   "source": [
    "balloons = read.csv('http://archive.ics.uci.edu/ml/machine-learning-databases/balloons/adult-stretch.data', header = F)"
   ]
  },
  {
   "cell_type": "markdown",
   "metadata": {},
   "source": [
    "### `head`"
   ]
  },
  {
   "cell_type": "code",
   "execution_count": 2,
   "metadata": {},
   "outputs": [
    {
     "data": {
      "text/html": [
       "<table>\n",
       "<thead><tr><th scope=col>V1</th><th scope=col>V2</th><th scope=col>V3</th><th scope=col>V4</th><th scope=col>V5</th></tr></thead>\n",
       "<tbody>\n",
       "\t<tr><td>YELLOW </td><td>SMALL  </td><td>STRETCH</td><td>ADULT  </td><td> TRUE  </td></tr>\n",
       "\t<tr><td>YELLOW </td><td>SMALL  </td><td>STRETCH</td><td>CHILD  </td><td> TRUE  </td></tr>\n",
       "\t<tr><td>YELLOW </td><td>SMALL  </td><td>DIP    </td><td>ADULT  </td><td> TRUE  </td></tr>\n",
       "\t<tr><td>YELLOW </td><td>SMALL  </td><td>DIP    </td><td>CHILD  </td><td>FALSE  </td></tr>\n",
       "\t<tr><td>YELLOW </td><td>SMALL  </td><td>DIP    </td><td>CHILD  </td><td>FALSE  </td></tr>\n",
       "\t<tr><td>YELLOW </td><td>LARGE  </td><td>STRETCH</td><td>ADULT  </td><td> TRUE  </td></tr>\n",
       "</tbody>\n",
       "</table>\n"
      ],
      "text/latex": [
       "\\begin{tabular}{r|lllll}\n",
       " V1 & V2 & V3 & V4 & V5\\\\\n",
       "\\hline\n",
       "\t YELLOW  & SMALL   & STRETCH & ADULT   &  TRUE  \\\\\n",
       "\t YELLOW  & SMALL   & STRETCH & CHILD   &  TRUE  \\\\\n",
       "\t YELLOW  & SMALL   & DIP     & ADULT   &  TRUE  \\\\\n",
       "\t YELLOW  & SMALL   & DIP     & CHILD   & FALSE  \\\\\n",
       "\t YELLOW  & SMALL   & DIP     & CHILD   & FALSE  \\\\\n",
       "\t YELLOW  & LARGE   & STRETCH & ADULT   &  TRUE  \\\\\n",
       "\\end{tabular}\n"
      ],
      "text/markdown": [
       "\n",
       "V1 | V2 | V3 | V4 | V5 | \n",
       "|---|---|---|---|---|---|\n",
       "| YELLOW  | SMALL   | STRETCH | ADULT   |  TRUE   | \n",
       "| YELLOW  | SMALL   | STRETCH | CHILD   |  TRUE   | \n",
       "| YELLOW  | SMALL   | DIP     | ADULT   |  TRUE   | \n",
       "| YELLOW  | SMALL   | DIP     | CHILD   | FALSE   | \n",
       "| YELLOW  | SMALL   | DIP     | CHILD   | FALSE   | \n",
       "| YELLOW  | LARGE   | STRETCH | ADULT   |  TRUE   | \n",
       "\n",
       "\n"
      ],
      "text/plain": [
       "  V1     V2    V3      V4    V5   \n",
       "1 YELLOW SMALL STRETCH ADULT  TRUE\n",
       "2 YELLOW SMALL STRETCH CHILD  TRUE\n",
       "3 YELLOW SMALL DIP     ADULT  TRUE\n",
       "4 YELLOW SMALL DIP     CHILD FALSE\n",
       "5 YELLOW SMALL DIP     CHILD FALSE\n",
       "6 YELLOW LARGE STRETCH ADULT  TRUE"
      ]
     },
     "metadata": {},
     "output_type": "display_data"
    }
   ],
   "source": [
    "head(balloons)"
   ]
  },
  {
   "cell_type": "markdown",
   "metadata": {},
   "source": [
    "### `colnames`"
   ]
  },
  {
   "cell_type": "code",
   "execution_count": 3,
   "metadata": {},
   "outputs": [],
   "source": [
    "colnames(balloons) <- c('color', 'size', 'act', 'age', 'inflated')"
   ]
  },
  {
   "cell_type": "code",
   "execution_count": 4,
   "metadata": {},
   "outputs": [
    {
     "data": {
      "text/html": [
       "<ol class=list-inline>\n",
       "\t<li>'color'</li>\n",
       "\t<li>'size'</li>\n",
       "\t<li>'act'</li>\n",
       "\t<li>'age'</li>\n",
       "\t<li>'inflated'</li>\n",
       "</ol>\n"
      ],
      "text/latex": [
       "\\begin{enumerate*}\n",
       "\\item 'color'\n",
       "\\item 'size'\n",
       "\\item 'act'\n",
       "\\item 'age'\n",
       "\\item 'inflated'\n",
       "\\end{enumerate*}\n"
      ],
      "text/markdown": [
       "1. 'color'\n",
       "2. 'size'\n",
       "3. 'act'\n",
       "4. 'age'\n",
       "5. 'inflated'\n",
       "\n",
       "\n"
      ],
      "text/plain": [
       "[1] \"color\"    \"size\"     \"act\"      \"age\"      \"inflated\""
      ]
     },
     "metadata": {},
     "output_type": "display_data"
    }
   ],
   "source": [
    "colnames(balloons)"
   ]
  },
  {
   "cell_type": "code",
   "execution_count": 5,
   "metadata": {},
   "outputs": [
    {
     "data": {
      "text/html": [
       "<table>\n",
       "<thead><tr><th scope=col>color</th><th scope=col>size</th><th scope=col>act</th><th scope=col>age</th><th scope=col>inflated</th></tr></thead>\n",
       "<tbody>\n",
       "\t<tr><td>YELLOW </td><td>SMALL  </td><td>STRETCH</td><td>ADULT  </td><td> TRUE  </td></tr>\n",
       "\t<tr><td>YELLOW </td><td>SMALL  </td><td>STRETCH</td><td>CHILD  </td><td> TRUE  </td></tr>\n",
       "\t<tr><td>YELLOW </td><td>SMALL  </td><td>DIP    </td><td>ADULT  </td><td> TRUE  </td></tr>\n",
       "\t<tr><td>YELLOW </td><td>SMALL  </td><td>DIP    </td><td>CHILD  </td><td>FALSE  </td></tr>\n",
       "\t<tr><td>YELLOW </td><td>SMALL  </td><td>DIP    </td><td>CHILD  </td><td>FALSE  </td></tr>\n",
       "\t<tr><td>YELLOW </td><td>LARGE  </td><td>STRETCH</td><td>ADULT  </td><td> TRUE  </td></tr>\n",
       "</tbody>\n",
       "</table>\n"
      ],
      "text/latex": [
       "\\begin{tabular}{r|lllll}\n",
       " color & size & act & age & inflated\\\\\n",
       "\\hline\n",
       "\t YELLOW  & SMALL   & STRETCH & ADULT   &  TRUE  \\\\\n",
       "\t YELLOW  & SMALL   & STRETCH & CHILD   &  TRUE  \\\\\n",
       "\t YELLOW  & SMALL   & DIP     & ADULT   &  TRUE  \\\\\n",
       "\t YELLOW  & SMALL   & DIP     & CHILD   & FALSE  \\\\\n",
       "\t YELLOW  & SMALL   & DIP     & CHILD   & FALSE  \\\\\n",
       "\t YELLOW  & LARGE   & STRETCH & ADULT   &  TRUE  \\\\\n",
       "\\end{tabular}\n"
      ],
      "text/markdown": [
       "\n",
       "color | size | act | age | inflated | \n",
       "|---|---|---|---|---|---|\n",
       "| YELLOW  | SMALL   | STRETCH | ADULT   |  TRUE   | \n",
       "| YELLOW  | SMALL   | STRETCH | CHILD   |  TRUE   | \n",
       "| YELLOW  | SMALL   | DIP     | ADULT   |  TRUE   | \n",
       "| YELLOW  | SMALL   | DIP     | CHILD   | FALSE   | \n",
       "| YELLOW  | SMALL   | DIP     | CHILD   | FALSE   | \n",
       "| YELLOW  | LARGE   | STRETCH | ADULT   |  TRUE   | \n",
       "\n",
       "\n"
      ],
      "text/plain": [
       "  color  size  act     age   inflated\n",
       "1 YELLOW SMALL STRETCH ADULT  TRUE   \n",
       "2 YELLOW SMALL STRETCH CHILD  TRUE   \n",
       "3 YELLOW SMALL DIP     ADULT  TRUE   \n",
       "4 YELLOW SMALL DIP     CHILD FALSE   \n",
       "5 YELLOW SMALL DIP     CHILD FALSE   \n",
       "6 YELLOW LARGE STRETCH ADULT  TRUE   "
      ]
     },
     "metadata": {},
     "output_type": "display_data"
    }
   ],
   "source": [
    "head(balloons)"
   ]
  },
  {
   "cell_type": "markdown",
   "metadata": {},
   "source": [
    "### Data Dimensions"
   ]
  },
  {
   "cell_type": "code",
   "execution_count": 6,
   "metadata": {},
   "outputs": [
    {
     "data": {
      "text/html": [
       "<ol class=list-inline>\n",
       "\t<li>20</li>\n",
       "\t<li>5</li>\n",
       "</ol>\n"
      ],
      "text/latex": [
       "\\begin{enumerate*}\n",
       "\\item 20\n",
       "\\item 5\n",
       "\\end{enumerate*}\n"
      ],
      "text/markdown": [
       "1. 20\n",
       "2. 5\n",
       "\n",
       "\n"
      ],
      "text/plain": [
       "[1] 20  5"
      ]
     },
     "metadata": {},
     "output_type": "display_data"
    }
   ],
   "source": [
    "dim(balloons)"
   ]
  },
  {
   "cell_type": "markdown",
   "metadata": {},
   "source": [
    "### `rownames`\n"
   ]
  },
  {
   "cell_type": "code",
   "execution_count": 7,
   "metadata": {},
   "outputs": [],
   "source": [
    "n = dim(balloons)[1]\n",
    "rownames(balloons) <- paste(\"balloon_\", 1:n, sep=\"\")"
   ]
  },
  {
   "cell_type": "code",
   "execution_count": 8,
   "metadata": {},
   "outputs": [
    {
     "data": {
      "text/html": [
       "<table>\n",
       "<thead><tr><th></th><th scope=col>color</th><th scope=col>size</th><th scope=col>act</th><th scope=col>age</th><th scope=col>inflated</th></tr></thead>\n",
       "<tbody>\n",
       "\t<tr><th scope=row>balloon_1</th><td>YELLOW </td><td>SMALL  </td><td>STRETCH</td><td>ADULT  </td><td> TRUE  </td></tr>\n",
       "\t<tr><th scope=row>balloon_2</th><td>YELLOW </td><td>SMALL  </td><td>STRETCH</td><td>CHILD  </td><td> TRUE  </td></tr>\n",
       "\t<tr><th scope=row>balloon_3</th><td>YELLOW </td><td>SMALL  </td><td>DIP    </td><td>ADULT  </td><td> TRUE  </td></tr>\n",
       "\t<tr><th scope=row>balloon_4</th><td>YELLOW </td><td>SMALL  </td><td>DIP    </td><td>CHILD  </td><td>FALSE  </td></tr>\n",
       "\t<tr><th scope=row>balloon_5</th><td>YELLOW </td><td>SMALL  </td><td>DIP    </td><td>CHILD  </td><td>FALSE  </td></tr>\n",
       "\t<tr><th scope=row>balloon_6</th><td>YELLOW </td><td>LARGE  </td><td>STRETCH</td><td>ADULT  </td><td> TRUE  </td></tr>\n",
       "</tbody>\n",
       "</table>\n"
      ],
      "text/latex": [
       "\\begin{tabular}{r|lllll}\n",
       "  & color & size & act & age & inflated\\\\\n",
       "\\hline\n",
       "\tballoon\\_1 & YELLOW  & SMALL   & STRETCH & ADULT   &  TRUE  \\\\\n",
       "\tballoon\\_2 & YELLOW  & SMALL   & STRETCH & CHILD   &  TRUE  \\\\\n",
       "\tballoon\\_3 & YELLOW  & SMALL   & DIP     & ADULT   &  TRUE  \\\\\n",
       "\tballoon\\_4 & YELLOW  & SMALL   & DIP     & CHILD   & FALSE  \\\\\n",
       "\tballoon\\_5 & YELLOW  & SMALL   & DIP     & CHILD   & FALSE  \\\\\n",
       "\tballoon\\_6 & YELLOW  & LARGE   & STRETCH & ADULT   &  TRUE  \\\\\n",
       "\\end{tabular}\n"
      ],
      "text/markdown": [
       "\n",
       "| <!--/--> | color | size | act | age | inflated | \n",
       "|---|---|---|---|---|---|\n",
       "| balloon_1 | YELLOW  | SMALL   | STRETCH | ADULT   |  TRUE   | \n",
       "| balloon_2 | YELLOW  | SMALL   | STRETCH | CHILD   |  TRUE   | \n",
       "| balloon_3 | YELLOW  | SMALL   | DIP     | ADULT   |  TRUE   | \n",
       "| balloon_4 | YELLOW  | SMALL   | DIP     | CHILD   | FALSE   | \n",
       "| balloon_5 | YELLOW  | SMALL   | DIP     | CHILD   | FALSE   | \n",
       "| balloon_6 | YELLOW  | LARGE   | STRETCH | ADULT   |  TRUE   | \n",
       "\n",
       "\n"
      ],
      "text/plain": [
       "          color  size  act     age   inflated\n",
       "balloon_1 YELLOW SMALL STRETCH ADULT  TRUE   \n",
       "balloon_2 YELLOW SMALL STRETCH CHILD  TRUE   \n",
       "balloon_3 YELLOW SMALL DIP     ADULT  TRUE   \n",
       "balloon_4 YELLOW SMALL DIP     CHILD FALSE   \n",
       "balloon_5 YELLOW SMALL DIP     CHILD FALSE   \n",
       "balloon_6 YELLOW LARGE STRETCH ADULT  TRUE   "
      ]
     },
     "metadata": {},
     "output_type": "display_data"
    }
   ],
   "source": [
    "head(balloons)"
   ]
  },
  {
   "cell_type": "markdown",
   "metadata": {},
   "source": [
    "### Columns are Vectors"
   ]
  },
  {
   "cell_type": "code",
   "execution_count": 9,
   "metadata": {},
   "outputs": [
    {
     "data": {
      "text/html": [
       "<ol class=list-inline>\n",
       "\t<li>YELLOW</li>\n",
       "\t<li>YELLOW</li>\n",
       "\t<li>YELLOW</li>\n",
       "\t<li>YELLOW</li>\n",
       "\t<li>YELLOW</li>\n",
       "\t<li>YELLOW</li>\n",
       "\t<li>YELLOW</li>\n",
       "\t<li>YELLOW</li>\n",
       "\t<li>YELLOW</li>\n",
       "\t<li>YELLOW</li>\n",
       "\t<li>PURPLE</li>\n",
       "\t<li>PURPLE</li>\n",
       "\t<li>PURPLE</li>\n",
       "\t<li>PURPLE</li>\n",
       "\t<li>PURPLE</li>\n",
       "\t<li>PURPLE</li>\n",
       "\t<li>PURPLE</li>\n",
       "\t<li>PURPLE</li>\n",
       "\t<li>PURPLE</li>\n",
       "\t<li>PURPLE</li>\n",
       "</ol>\n"
      ],
      "text/latex": [
       "\\begin{enumerate*}\n",
       "\\item YELLOW\n",
       "\\item YELLOW\n",
       "\\item YELLOW\n",
       "\\item YELLOW\n",
       "\\item YELLOW\n",
       "\\item YELLOW\n",
       "\\item YELLOW\n",
       "\\item YELLOW\n",
       "\\item YELLOW\n",
       "\\item YELLOW\n",
       "\\item PURPLE\n",
       "\\item PURPLE\n",
       "\\item PURPLE\n",
       "\\item PURPLE\n",
       "\\item PURPLE\n",
       "\\item PURPLE\n",
       "\\item PURPLE\n",
       "\\item PURPLE\n",
       "\\item PURPLE\n",
       "\\item PURPLE\n",
       "\\end{enumerate*}\n"
      ],
      "text/markdown": [
       "1. YELLOW\n",
       "2. YELLOW\n",
       "3. YELLOW\n",
       "4. YELLOW\n",
       "5. YELLOW\n",
       "6. YELLOW\n",
       "7. YELLOW\n",
       "8. YELLOW\n",
       "9. YELLOW\n",
       "10. YELLOW\n",
       "11. PURPLE\n",
       "12. PURPLE\n",
       "13. PURPLE\n",
       "14. PURPLE\n",
       "15. PURPLE\n",
       "16. PURPLE\n",
       "17. PURPLE\n",
       "18. PURPLE\n",
       "19. PURPLE\n",
       "20. PURPLE\n",
       "\n",
       "\n"
      ],
      "text/plain": [
       " [1] YELLOW YELLOW YELLOW YELLOW YELLOW YELLOW YELLOW YELLOW YELLOW YELLOW\n",
       "[11] PURPLE PURPLE PURPLE PURPLE PURPLE PURPLE PURPLE PURPLE PURPLE PURPLE\n",
       "Levels: PURPLE YELLOW"
      ]
     },
     "metadata": {},
     "output_type": "display_data"
    }
   ],
   "source": [
    "balloons$color"
   ]
  },
  {
   "cell_type": "code",
   "execution_count": 10,
   "metadata": {},
   "outputs": [
    {
     "data": {
      "text/html": [
       "<ol class=list-inline>\n",
       "\t<li>YELLOW</li>\n",
       "\t<li>YELLOW</li>\n",
       "\t<li>YELLOW</li>\n",
       "\t<li>YELLOW</li>\n",
       "\t<li>YELLOW</li>\n",
       "\t<li>YELLOW</li>\n",
       "\t<li>YELLOW</li>\n",
       "\t<li>YELLOW</li>\n",
       "\t<li>YELLOW</li>\n",
       "\t<li>YELLOW</li>\n",
       "\t<li>PURPLE</li>\n",
       "\t<li>PURPLE</li>\n",
       "\t<li>PURPLE</li>\n",
       "\t<li>PURPLE</li>\n",
       "\t<li>PURPLE</li>\n",
       "\t<li>PURPLE</li>\n",
       "\t<li>PURPLE</li>\n",
       "\t<li>PURPLE</li>\n",
       "\t<li>PURPLE</li>\n",
       "\t<li>PURPLE</li>\n",
       "</ol>\n"
      ],
      "text/latex": [
       "\\begin{enumerate*}\n",
       "\\item YELLOW\n",
       "\\item YELLOW\n",
       "\\item YELLOW\n",
       "\\item YELLOW\n",
       "\\item YELLOW\n",
       "\\item YELLOW\n",
       "\\item YELLOW\n",
       "\\item YELLOW\n",
       "\\item YELLOW\n",
       "\\item YELLOW\n",
       "\\item PURPLE\n",
       "\\item PURPLE\n",
       "\\item PURPLE\n",
       "\\item PURPLE\n",
       "\\item PURPLE\n",
       "\\item PURPLE\n",
       "\\item PURPLE\n",
       "\\item PURPLE\n",
       "\\item PURPLE\n",
       "\\item PURPLE\n",
       "\\end{enumerate*}\n"
      ],
      "text/markdown": [
       "1. YELLOW\n",
       "2. YELLOW\n",
       "3. YELLOW\n",
       "4. YELLOW\n",
       "5. YELLOW\n",
       "6. YELLOW\n",
       "7. YELLOW\n",
       "8. YELLOW\n",
       "9. YELLOW\n",
       "10. YELLOW\n",
       "11. PURPLE\n",
       "12. PURPLE\n",
       "13. PURPLE\n",
       "14. PURPLE\n",
       "15. PURPLE\n",
       "16. PURPLE\n",
       "17. PURPLE\n",
       "18. PURPLE\n",
       "19. PURPLE\n",
       "20. PURPLE\n",
       "\n",
       "\n"
      ],
      "text/plain": [
       " [1] YELLOW YELLOW YELLOW YELLOW YELLOW YELLOW YELLOW YELLOW YELLOW YELLOW\n",
       "[11] PURPLE PURPLE PURPLE PURPLE PURPLE PURPLE PURPLE PURPLE PURPLE PURPLE\n",
       "Levels: PURPLE YELLOW"
      ]
     },
     "metadata": {},
     "output_type": "display_data"
    }
   ],
   "source": [
    "balloons[,'color']"
   ]
  },
  {
   "cell_type": "markdown",
   "metadata": {},
   "source": [
    "#### Columns Accessed by name are filtered DataFrames"
   ]
  },
  {
   "cell_type": "code",
   "execution_count": 13,
   "metadata": {},
   "outputs": [
    {
     "data": {
      "text/html": [
       "<table>\n",
       "<thead><tr><th></th><th scope=col>color</th></tr></thead>\n",
       "<tbody>\n",
       "\t<tr><th scope=row>balloon_1</th><td>YELLOW</td></tr>\n",
       "\t<tr><th scope=row>balloon_2</th><td>YELLOW</td></tr>\n",
       "\t<tr><th scope=row>balloon_3</th><td>YELLOW</td></tr>\n",
       "\t<tr><th scope=row>balloon_4</th><td>YELLOW</td></tr>\n",
       "\t<tr><th scope=row>balloon_5</th><td>YELLOW</td></tr>\n",
       "\t<tr><th scope=row>balloon_6</th><td>YELLOW</td></tr>\n",
       "\t<tr><th scope=row>balloon_7</th><td>YELLOW</td></tr>\n",
       "\t<tr><th scope=row>balloon_8</th><td>YELLOW</td></tr>\n",
       "\t<tr><th scope=row>balloon_9</th><td>YELLOW</td></tr>\n",
       "\t<tr><th scope=row>balloon_10</th><td>YELLOW</td></tr>\n",
       "\t<tr><th scope=row>balloon_11</th><td>PURPLE</td></tr>\n",
       "\t<tr><th scope=row>balloon_12</th><td>PURPLE</td></tr>\n",
       "\t<tr><th scope=row>balloon_13</th><td>PURPLE</td></tr>\n",
       "\t<tr><th scope=row>balloon_14</th><td>PURPLE</td></tr>\n",
       "\t<tr><th scope=row>balloon_15</th><td>PURPLE</td></tr>\n",
       "\t<tr><th scope=row>balloon_16</th><td>PURPLE</td></tr>\n",
       "\t<tr><th scope=row>balloon_17</th><td>PURPLE</td></tr>\n",
       "\t<tr><th scope=row>balloon_18</th><td>PURPLE</td></tr>\n",
       "\t<tr><th scope=row>balloon_19</th><td>PURPLE</td></tr>\n",
       "\t<tr><th scope=row>balloon_20</th><td>PURPLE</td></tr>\n",
       "</tbody>\n",
       "</table>\n"
      ],
      "text/latex": [
       "\\begin{tabular}{r|l}\n",
       "  & color\\\\\n",
       "\\hline\n",
       "\tballoon\\_1 & YELLOW\\\\\n",
       "\tballoon\\_2 & YELLOW\\\\\n",
       "\tballoon\\_3 & YELLOW\\\\\n",
       "\tballoon\\_4 & YELLOW\\\\\n",
       "\tballoon\\_5 & YELLOW\\\\\n",
       "\tballoon\\_6 & YELLOW\\\\\n",
       "\tballoon\\_7 & YELLOW\\\\\n",
       "\tballoon\\_8 & YELLOW\\\\\n",
       "\tballoon\\_9 & YELLOW\\\\\n",
       "\tballoon\\_10 & YELLOW\\\\\n",
       "\tballoon\\_11 & PURPLE\\\\\n",
       "\tballoon\\_12 & PURPLE\\\\\n",
       "\tballoon\\_13 & PURPLE\\\\\n",
       "\tballoon\\_14 & PURPLE\\\\\n",
       "\tballoon\\_15 & PURPLE\\\\\n",
       "\tballoon\\_16 & PURPLE\\\\\n",
       "\tballoon\\_17 & PURPLE\\\\\n",
       "\tballoon\\_18 & PURPLE\\\\\n",
       "\tballoon\\_19 & PURPLE\\\\\n",
       "\tballoon\\_20 & PURPLE\\\\\n",
       "\\end{tabular}\n"
      ],
      "text/markdown": [
       "\n",
       "| <!--/--> | color | \n",
       "|---|---|---|---|---|---|---|---|---|---|---|---|---|---|---|---|---|---|---|---|\n",
       "| balloon_1 | YELLOW | \n",
       "| balloon_2 | YELLOW | \n",
       "| balloon_3 | YELLOW | \n",
       "| balloon_4 | YELLOW | \n",
       "| balloon_5 | YELLOW | \n",
       "| balloon_6 | YELLOW | \n",
       "| balloon_7 | YELLOW | \n",
       "| balloon_8 | YELLOW | \n",
       "| balloon_9 | YELLOW | \n",
       "| balloon_10 | YELLOW | \n",
       "| balloon_11 | PURPLE | \n",
       "| balloon_12 | PURPLE | \n",
       "| balloon_13 | PURPLE | \n",
       "| balloon_14 | PURPLE | \n",
       "| balloon_15 | PURPLE | \n",
       "| balloon_16 | PURPLE | \n",
       "| balloon_17 | PURPLE | \n",
       "| balloon_18 | PURPLE | \n",
       "| balloon_19 | PURPLE | \n",
       "| balloon_20 | PURPLE | \n",
       "\n",
       "\n"
      ],
      "text/plain": [
       "           color \n",
       "balloon_1  YELLOW\n",
       "balloon_2  YELLOW\n",
       "balloon_3  YELLOW\n",
       "balloon_4  YELLOW\n",
       "balloon_5  YELLOW\n",
       "balloon_6  YELLOW\n",
       "balloon_7  YELLOW\n",
       "balloon_8  YELLOW\n",
       "balloon_9  YELLOW\n",
       "balloon_10 YELLOW\n",
       "balloon_11 PURPLE\n",
       "balloon_12 PURPLE\n",
       "balloon_13 PURPLE\n",
       "balloon_14 PURPLE\n",
       "balloon_15 PURPLE\n",
       "balloon_16 PURPLE\n",
       "balloon_17 PURPLE\n",
       "balloon_18 PURPLE\n",
       "balloon_19 PURPLE\n",
       "balloon_20 PURPLE"
      ]
     },
     "metadata": {},
     "output_type": "display_data"
    }
   ],
   "source": [
    "balloons['color']"
   ]
  },
  {
   "cell_type": "code",
   "execution_count": 14,
   "metadata": {},
   "outputs": [
    {
     "data": {
      "text/html": [
       "<table>\n",
       "<thead><tr><th></th><th scope=col>size</th><th scope=col>act</th></tr></thead>\n",
       "<tbody>\n",
       "\t<tr><th scope=row>balloon_1</th><td>SMALL  </td><td>STRETCH</td></tr>\n",
       "\t<tr><th scope=row>balloon_2</th><td>SMALL  </td><td>STRETCH</td></tr>\n",
       "\t<tr><th scope=row>balloon_3</th><td>SMALL  </td><td>DIP    </td></tr>\n",
       "\t<tr><th scope=row>balloon_4</th><td>SMALL  </td><td>DIP    </td></tr>\n",
       "\t<tr><th scope=row>balloon_5</th><td>SMALL  </td><td>DIP    </td></tr>\n",
       "\t<tr><th scope=row>balloon_6</th><td>LARGE  </td><td>STRETCH</td></tr>\n",
       "\t<tr><th scope=row>balloon_7</th><td>LARGE  </td><td>STRETCH</td></tr>\n",
       "\t<tr><th scope=row>balloon_8</th><td>LARGE  </td><td>DIP    </td></tr>\n",
       "\t<tr><th scope=row>balloon_9</th><td>LARGE  </td><td>DIP    </td></tr>\n",
       "\t<tr><th scope=row>balloon_10</th><td>LARGE  </td><td>DIP    </td></tr>\n",
       "\t<tr><th scope=row>balloon_11</th><td>SMALL  </td><td>STRETCH</td></tr>\n",
       "\t<tr><th scope=row>balloon_12</th><td>SMALL  </td><td>STRETCH</td></tr>\n",
       "\t<tr><th scope=row>balloon_13</th><td>SMALL  </td><td>DIP    </td></tr>\n",
       "\t<tr><th scope=row>balloon_14</th><td>SMALL  </td><td>DIP    </td></tr>\n",
       "\t<tr><th scope=row>balloon_15</th><td>SMALL  </td><td>DIP    </td></tr>\n",
       "\t<tr><th scope=row>balloon_16</th><td>LARGE  </td><td>STRETCH</td></tr>\n",
       "\t<tr><th scope=row>balloon_17</th><td>LARGE  </td><td>STRETCH</td></tr>\n",
       "\t<tr><th scope=row>balloon_18</th><td>LARGE  </td><td>DIP    </td></tr>\n",
       "\t<tr><th scope=row>balloon_19</th><td>LARGE  </td><td>DIP    </td></tr>\n",
       "\t<tr><th scope=row>balloon_20</th><td>LARGE  </td><td>DIP    </td></tr>\n",
       "</tbody>\n",
       "</table>\n"
      ],
      "text/latex": [
       "\\begin{tabular}{r|ll}\n",
       "  & size & act\\\\\n",
       "\\hline\n",
       "\tballoon\\_1 & SMALL   & STRETCH\\\\\n",
       "\tballoon\\_2 & SMALL   & STRETCH\\\\\n",
       "\tballoon\\_3 & SMALL   & DIP    \\\\\n",
       "\tballoon\\_4 & SMALL   & DIP    \\\\\n",
       "\tballoon\\_5 & SMALL   & DIP    \\\\\n",
       "\tballoon\\_6 & LARGE   & STRETCH\\\\\n",
       "\tballoon\\_7 & LARGE   & STRETCH\\\\\n",
       "\tballoon\\_8 & LARGE   & DIP    \\\\\n",
       "\tballoon\\_9 & LARGE   & DIP    \\\\\n",
       "\tballoon\\_10 & LARGE   & DIP    \\\\\n",
       "\tballoon\\_11 & SMALL   & STRETCH\\\\\n",
       "\tballoon\\_12 & SMALL   & STRETCH\\\\\n",
       "\tballoon\\_13 & SMALL   & DIP    \\\\\n",
       "\tballoon\\_14 & SMALL   & DIP    \\\\\n",
       "\tballoon\\_15 & SMALL   & DIP    \\\\\n",
       "\tballoon\\_16 & LARGE   & STRETCH\\\\\n",
       "\tballoon\\_17 & LARGE   & STRETCH\\\\\n",
       "\tballoon\\_18 & LARGE   & DIP    \\\\\n",
       "\tballoon\\_19 & LARGE   & DIP    \\\\\n",
       "\tballoon\\_20 & LARGE   & DIP    \\\\\n",
       "\\end{tabular}\n"
      ],
      "text/markdown": [
       "\n",
       "| <!--/--> | size | act | \n",
       "|---|---|---|---|---|---|---|---|---|---|---|---|---|---|---|---|---|---|---|---|\n",
       "| balloon_1 | SMALL   | STRETCH | \n",
       "| balloon_2 | SMALL   | STRETCH | \n",
       "| balloon_3 | SMALL   | DIP     | \n",
       "| balloon_4 | SMALL   | DIP     | \n",
       "| balloon_5 | SMALL   | DIP     | \n",
       "| balloon_6 | LARGE   | STRETCH | \n",
       "| balloon_7 | LARGE   | STRETCH | \n",
       "| balloon_8 | LARGE   | DIP     | \n",
       "| balloon_9 | LARGE   | DIP     | \n",
       "| balloon_10 | LARGE   | DIP     | \n",
       "| balloon_11 | SMALL   | STRETCH | \n",
       "| balloon_12 | SMALL   | STRETCH | \n",
       "| balloon_13 | SMALL   | DIP     | \n",
       "| balloon_14 | SMALL   | DIP     | \n",
       "| balloon_15 | SMALL   | DIP     | \n",
       "| balloon_16 | LARGE   | STRETCH | \n",
       "| balloon_17 | LARGE   | STRETCH | \n",
       "| balloon_18 | LARGE   | DIP     | \n",
       "| balloon_19 | LARGE   | DIP     | \n",
       "| balloon_20 | LARGE   | DIP     | \n",
       "\n",
       "\n"
      ],
      "text/plain": [
       "           size  act    \n",
       "balloon_1  SMALL STRETCH\n",
       "balloon_2  SMALL STRETCH\n",
       "balloon_3  SMALL DIP    \n",
       "balloon_4  SMALL DIP    \n",
       "balloon_5  SMALL DIP    \n",
       "balloon_6  LARGE STRETCH\n",
       "balloon_7  LARGE STRETCH\n",
       "balloon_8  LARGE DIP    \n",
       "balloon_9  LARGE DIP    \n",
       "balloon_10 LARGE DIP    \n",
       "balloon_11 SMALL STRETCH\n",
       "balloon_12 SMALL STRETCH\n",
       "balloon_13 SMALL DIP    \n",
       "balloon_14 SMALL DIP    \n",
       "balloon_15 SMALL DIP    \n",
       "balloon_16 LARGE STRETCH\n",
       "balloon_17 LARGE STRETCH\n",
       "balloon_18 LARGE DIP    \n",
       "balloon_19 LARGE DIP    \n",
       "balloon_20 LARGE DIP    "
      ]
     },
     "metadata": {},
     "output_type": "display_data"
    }
   ],
   "source": [
    "balloons[c('size','act')]"
   ]
  },
  {
   "cell_type": "markdown",
   "metadata": {},
   "source": [
    "## Rows are filtered DataFrames"
   ]
  },
  {
   "cell_type": "code",
   "execution_count": 15,
   "metadata": {
    "scrolled": true
   },
   "outputs": [
    {
     "data": {
      "text/html": [
       "<table>\n",
       "<thead><tr><th></th><th scope=col>color</th><th scope=col>size</th><th scope=col>act</th><th scope=col>age</th><th scope=col>inflated</th></tr></thead>\n",
       "<tbody>\n",
       "\t<tr><th scope=row>balloon_1</th><td>YELLOW </td><td>SMALL  </td><td>STRETCH</td><td>ADULT  </td><td>TRUE   </td></tr>\n",
       "</tbody>\n",
       "</table>\n"
      ],
      "text/latex": [
       "\\begin{tabular}{r|lllll}\n",
       "  & color & size & act & age & inflated\\\\\n",
       "\\hline\n",
       "\tballoon\\_1 & YELLOW  & SMALL   & STRETCH & ADULT   & TRUE   \\\\\n",
       "\\end{tabular}\n"
      ],
      "text/markdown": [
       "\n",
       "| <!--/--> | color | size | act | age | inflated | \n",
       "|---|\n",
       "| balloon_1 | YELLOW  | SMALL   | STRETCH | ADULT   | TRUE    | \n",
       "\n",
       "\n"
      ],
      "text/plain": [
       "          color  size  act     age   inflated\n",
       "balloon_1 YELLOW SMALL STRETCH ADULT TRUE    "
      ]
     },
     "metadata": {},
     "output_type": "display_data"
    }
   ],
   "source": [
    "balloons['balloon_1',]"
   ]
  },
  {
   "cell_type": "code",
   "execution_count": 16,
   "metadata": {},
   "outputs": [
    {
     "data": {
      "text/html": [
       "<table>\n",
       "<thead><tr><th></th><th scope=col>color</th><th scope=col>size</th><th scope=col>act</th><th scope=col>age</th><th scope=col>inflated</th></tr></thead>\n",
       "<tbody>\n",
       "\t<tr><th scope=row>balloon_1</th><td>YELLOW </td><td>SMALL  </td><td>STRETCH</td><td>ADULT  </td><td>TRUE   </td></tr>\n",
       "\t<tr><th scope=row>balloon_2</th><td>YELLOW </td><td>SMALL  </td><td>STRETCH</td><td>CHILD  </td><td>TRUE   </td></tr>\n",
       "\t<tr><th scope=row>balloon_3</th><td>YELLOW </td><td>SMALL  </td><td>DIP    </td><td>ADULT  </td><td>TRUE   </td></tr>\n",
       "</tbody>\n",
       "</table>\n"
      ],
      "text/latex": [
       "\\begin{tabular}{r|lllll}\n",
       "  & color & size & act & age & inflated\\\\\n",
       "\\hline\n",
       "\tballoon\\_1 & YELLOW  & SMALL   & STRETCH & ADULT   & TRUE   \\\\\n",
       "\tballoon\\_2 & YELLOW  & SMALL   & STRETCH & CHILD   & TRUE   \\\\\n",
       "\tballoon\\_3 & YELLOW  & SMALL   & DIP     & ADULT   & TRUE   \\\\\n",
       "\\end{tabular}\n"
      ],
      "text/markdown": [
       "\n",
       "| <!--/--> | color | size | act | age | inflated | \n",
       "|---|---|---|\n",
       "| balloon_1 | YELLOW  | SMALL   | STRETCH | ADULT   | TRUE    | \n",
       "| balloon_2 | YELLOW  | SMALL   | STRETCH | CHILD   | TRUE    | \n",
       "| balloon_3 | YELLOW  | SMALL   | DIP     | ADULT   | TRUE    | \n",
       "\n",
       "\n"
      ],
      "text/plain": [
       "          color  size  act     age   inflated\n",
       "balloon_1 YELLOW SMALL STRETCH ADULT TRUE    \n",
       "balloon_2 YELLOW SMALL STRETCH CHILD TRUE    \n",
       "balloon_3 YELLOW SMALL DIP     ADULT TRUE    "
      ]
     },
     "metadata": {},
     "output_type": "display_data"
    }
   ],
   "source": [
    "balloons[paste(\"balloon_\", 1:3, sep=\"\"),]"
   ]
  },
  {
   "cell_type": "code",
   "execution_count": 17,
   "metadata": {},
   "outputs": [
    {
     "data": {
      "text/html": [
       "<ol class=list-inline>\n",
       "\t<li>FALSE</li>\n",
       "\t<li>FALSE</li>\n",
       "\t<li>FALSE</li>\n",
       "\t<li>FALSE</li>\n",
       "\t<li>FALSE</li>\n",
       "\t<li>FALSE</li>\n",
       "\t<li>FALSE</li>\n",
       "\t<li>FALSE</li>\n",
       "\t<li>FALSE</li>\n",
       "\t<li>TRUE</li>\n",
       "\t<li>TRUE</li>\n",
       "\t<li>TRUE</li>\n",
       "\t<li>TRUE</li>\n",
       "\t<li>TRUE</li>\n",
       "\t<li>TRUE</li>\n",
       "\t<li>TRUE</li>\n",
       "\t<li>TRUE</li>\n",
       "\t<li>TRUE</li>\n",
       "\t<li>TRUE</li>\n",
       "\t<li>FALSE</li>\n",
       "</ol>\n"
      ],
      "text/latex": [
       "\\begin{enumerate*}\n",
       "\\item FALSE\n",
       "\\item FALSE\n",
       "\\item FALSE\n",
       "\\item FALSE\n",
       "\\item FALSE\n",
       "\\item FALSE\n",
       "\\item FALSE\n",
       "\\item FALSE\n",
       "\\item FALSE\n",
       "\\item TRUE\n",
       "\\item TRUE\n",
       "\\item TRUE\n",
       "\\item TRUE\n",
       "\\item TRUE\n",
       "\\item TRUE\n",
       "\\item TRUE\n",
       "\\item TRUE\n",
       "\\item TRUE\n",
       "\\item TRUE\n",
       "\\item FALSE\n",
       "\\end{enumerate*}\n"
      ],
      "text/markdown": [
       "1. FALSE\n",
       "2. FALSE\n",
       "3. FALSE\n",
       "4. FALSE\n",
       "5. FALSE\n",
       "6. FALSE\n",
       "7. FALSE\n",
       "8. FALSE\n",
       "9. FALSE\n",
       "10. TRUE\n",
       "11. TRUE\n",
       "12. TRUE\n",
       "13. TRUE\n",
       "14. TRUE\n",
       "15. TRUE\n",
       "16. TRUE\n",
       "17. TRUE\n",
       "18. TRUE\n",
       "19. TRUE\n",
       "20. FALSE\n",
       "\n",
       "\n"
      ],
      "text/plain": [
       " [1] FALSE FALSE FALSE FALSE FALSE FALSE FALSE FALSE FALSE  TRUE  TRUE  TRUE\n",
       "[13]  TRUE  TRUE  TRUE  TRUE  TRUE  TRUE  TRUE FALSE"
      ]
     },
     "metadata": {},
     "output_type": "display_data"
    }
   ],
   "source": [
    "grepl('_1.', rownames(balloons))"
   ]
  },
  {
   "cell_type": "code",
   "execution_count": 21,
   "metadata": {},
   "outputs": [
    {
     "data": {
      "text/html": [
       "<table>\n",
       "<thead><tr><th></th><th scope=col>color</th><th scope=col>size</th><th scope=col>act</th><th scope=col>age</th><th scope=col>inflated</th></tr></thead>\n",
       "<tbody>\n",
       "\t<tr><th scope=row>balloon_10</th><td>YELLOW </td><td>LARGE  </td><td>DIP    </td><td>CHILD  </td><td>FALSE  </td></tr>\n",
       "\t<tr><th scope=row>balloon_11</th><td>PURPLE </td><td>SMALL  </td><td>STRETCH</td><td>ADULT  </td><td> TRUE  </td></tr>\n",
       "\t<tr><th scope=row>balloon_12</th><td>PURPLE </td><td>SMALL  </td><td>STRETCH</td><td>CHILD  </td><td> TRUE  </td></tr>\n",
       "\t<tr><th scope=row>balloon_13</th><td>PURPLE </td><td>SMALL  </td><td>DIP    </td><td>ADULT  </td><td> TRUE  </td></tr>\n",
       "\t<tr><th scope=row>balloon_14</th><td>PURPLE </td><td>SMALL  </td><td>DIP    </td><td>CHILD  </td><td>FALSE  </td></tr>\n",
       "\t<tr><th scope=row>balloon_15</th><td>PURPLE </td><td>SMALL  </td><td>DIP    </td><td>CHILD  </td><td>FALSE  </td></tr>\n",
       "\t<tr><th scope=row>balloon_16</th><td>PURPLE </td><td>LARGE  </td><td>STRETCH</td><td>ADULT  </td><td> TRUE  </td></tr>\n",
       "\t<tr><th scope=row>balloon_17</th><td>PURPLE </td><td>LARGE  </td><td>STRETCH</td><td>CHILD  </td><td> TRUE  </td></tr>\n",
       "\t<tr><th scope=row>balloon_18</th><td>PURPLE </td><td>LARGE  </td><td>DIP    </td><td>ADULT  </td><td> TRUE  </td></tr>\n",
       "\t<tr><th scope=row>balloon_19</th><td>PURPLE </td><td>LARGE  </td><td>DIP    </td><td>CHILD  </td><td>FALSE  </td></tr>\n",
       "</tbody>\n",
       "</table>\n"
      ],
      "text/latex": [
       "\\begin{tabular}{r|lllll}\n",
       "  & color & size & act & age & inflated\\\\\n",
       "\\hline\n",
       "\tballoon\\_10 & YELLOW  & LARGE   & DIP     & CHILD   & FALSE  \\\\\n",
       "\tballoon\\_11 & PURPLE  & SMALL   & STRETCH & ADULT   &  TRUE  \\\\\n",
       "\tballoon\\_12 & PURPLE  & SMALL   & STRETCH & CHILD   &  TRUE  \\\\\n",
       "\tballoon\\_13 & PURPLE  & SMALL   & DIP     & ADULT   &  TRUE  \\\\\n",
       "\tballoon\\_14 & PURPLE  & SMALL   & DIP     & CHILD   & FALSE  \\\\\n",
       "\tballoon\\_15 & PURPLE  & SMALL   & DIP     & CHILD   & FALSE  \\\\\n",
       "\tballoon\\_16 & PURPLE  & LARGE   & STRETCH & ADULT   &  TRUE  \\\\\n",
       "\tballoon\\_17 & PURPLE  & LARGE   & STRETCH & CHILD   &  TRUE  \\\\\n",
       "\tballoon\\_18 & PURPLE  & LARGE   & DIP     & ADULT   &  TRUE  \\\\\n",
       "\tballoon\\_19 & PURPLE  & LARGE   & DIP     & CHILD   & FALSE  \\\\\n",
       "\\end{tabular}\n"
      ],
      "text/markdown": [
       "\n",
       "| <!--/--> | color | size | act | age | inflated | \n",
       "|---|---|---|---|---|---|---|---|---|---|\n",
       "| balloon_10 | YELLOW  | LARGE   | DIP     | CHILD   | FALSE   | \n",
       "| balloon_11 | PURPLE  | SMALL   | STRETCH | ADULT   |  TRUE   | \n",
       "| balloon_12 | PURPLE  | SMALL   | STRETCH | CHILD   |  TRUE   | \n",
       "| balloon_13 | PURPLE  | SMALL   | DIP     | ADULT   |  TRUE   | \n",
       "| balloon_14 | PURPLE  | SMALL   | DIP     | CHILD   | FALSE   | \n",
       "| balloon_15 | PURPLE  | SMALL   | DIP     | CHILD   | FALSE   | \n",
       "| balloon_16 | PURPLE  | LARGE   | STRETCH | ADULT   |  TRUE   | \n",
       "| balloon_17 | PURPLE  | LARGE   | STRETCH | CHILD   |  TRUE   | \n",
       "| balloon_18 | PURPLE  | LARGE   | DIP     | ADULT   |  TRUE   | \n",
       "| balloon_19 | PURPLE  | LARGE   | DIP     | CHILD   | FALSE   | \n",
       "\n",
       "\n"
      ],
      "text/plain": [
       "           color  size  act     age   inflated\n",
       "balloon_10 YELLOW LARGE DIP     CHILD FALSE   \n",
       "balloon_11 PURPLE SMALL STRETCH ADULT  TRUE   \n",
       "balloon_12 PURPLE SMALL STRETCH CHILD  TRUE   \n",
       "balloon_13 PURPLE SMALL DIP     ADULT  TRUE   \n",
       "balloon_14 PURPLE SMALL DIP     CHILD FALSE   \n",
       "balloon_15 PURPLE SMALL DIP     CHILD FALSE   \n",
       "balloon_16 PURPLE LARGE STRETCH ADULT  TRUE   \n",
       "balloon_17 PURPLE LARGE STRETCH CHILD  TRUE   \n",
       "balloon_18 PURPLE LARGE DIP     ADULT  TRUE   \n",
       "balloon_19 PURPLE LARGE DIP     CHILD FALSE   "
      ]
     },
     "metadata": {},
     "output_type": "display_data"
    }
   ],
   "source": [
    "balloons[grepl('_1.', rownames(balloons)),]"
   ]
  },
  {
   "cell_type": "code",
   "execution_count": 22,
   "metadata": {},
   "outputs": [
    {
     "data": {
      "text/html": [
       "<table>\n",
       "<thead><tr><th></th><th scope=col>color</th><th scope=col>size</th><th scope=col>act</th><th scope=col>age</th><th scope=col>inflated</th></tr></thead>\n",
       "<tbody>\n",
       "\t<tr><th scope=row>balloon_11</th><td>PURPLE </td><td>SMALL  </td><td>STRETCH</td><td>ADULT  </td><td> TRUE  </td></tr>\n",
       "\t<tr><th scope=row>balloon_12</th><td>PURPLE </td><td>SMALL  </td><td>STRETCH</td><td>CHILD  </td><td> TRUE  </td></tr>\n",
       "\t<tr><th scope=row>balloon_13</th><td>PURPLE </td><td>SMALL  </td><td>DIP    </td><td>ADULT  </td><td> TRUE  </td></tr>\n",
       "\t<tr><th scope=row>balloon_14</th><td>PURPLE </td><td>SMALL  </td><td>DIP    </td><td>CHILD  </td><td>FALSE  </td></tr>\n",
       "\t<tr><th scope=row>balloon_15</th><td>PURPLE </td><td>SMALL  </td><td>DIP    </td><td>CHILD  </td><td>FALSE  </td></tr>\n",
       "\t<tr><th scope=row>balloon_16</th><td>PURPLE </td><td>LARGE  </td><td>STRETCH</td><td>ADULT  </td><td> TRUE  </td></tr>\n",
       "\t<tr><th scope=row>balloon_17</th><td>PURPLE </td><td>LARGE  </td><td>STRETCH</td><td>CHILD  </td><td> TRUE  </td></tr>\n",
       "\t<tr><th scope=row>balloon_18</th><td>PURPLE </td><td>LARGE  </td><td>DIP    </td><td>ADULT  </td><td> TRUE  </td></tr>\n",
       "\t<tr><th scope=row>balloon_19</th><td>PURPLE </td><td>LARGE  </td><td>DIP    </td><td>CHILD  </td><td>FALSE  </td></tr>\n",
       "\t<tr><th scope=row>balloon_20</th><td>PURPLE </td><td>LARGE  </td><td>DIP    </td><td>CHILD  </td><td>FALSE  </td></tr>\n",
       "</tbody>\n",
       "</table>\n"
      ],
      "text/latex": [
       "\\begin{tabular}{r|lllll}\n",
       "  & color & size & act & age & inflated\\\\\n",
       "\\hline\n",
       "\tballoon\\_11 & PURPLE  & SMALL   & STRETCH & ADULT   &  TRUE  \\\\\n",
       "\tballoon\\_12 & PURPLE  & SMALL   & STRETCH & CHILD   &  TRUE  \\\\\n",
       "\tballoon\\_13 & PURPLE  & SMALL   & DIP     & ADULT   &  TRUE  \\\\\n",
       "\tballoon\\_14 & PURPLE  & SMALL   & DIP     & CHILD   & FALSE  \\\\\n",
       "\tballoon\\_15 & PURPLE  & SMALL   & DIP     & CHILD   & FALSE  \\\\\n",
       "\tballoon\\_16 & PURPLE  & LARGE   & STRETCH & ADULT   &  TRUE  \\\\\n",
       "\tballoon\\_17 & PURPLE  & LARGE   & STRETCH & CHILD   &  TRUE  \\\\\n",
       "\tballoon\\_18 & PURPLE  & LARGE   & DIP     & ADULT   &  TRUE  \\\\\n",
       "\tballoon\\_19 & PURPLE  & LARGE   & DIP     & CHILD   & FALSE  \\\\\n",
       "\tballoon\\_20 & PURPLE  & LARGE   & DIP     & CHILD   & FALSE  \\\\\n",
       "\\end{tabular}\n"
      ],
      "text/markdown": [
       "\n",
       "| <!--/--> | color | size | act | age | inflated | \n",
       "|---|---|---|---|---|---|---|---|---|---|\n",
       "| balloon_11 | PURPLE  | SMALL   | STRETCH | ADULT   |  TRUE   | \n",
       "| balloon_12 | PURPLE  | SMALL   | STRETCH | CHILD   |  TRUE   | \n",
       "| balloon_13 | PURPLE  | SMALL   | DIP     | ADULT   |  TRUE   | \n",
       "| balloon_14 | PURPLE  | SMALL   | DIP     | CHILD   | FALSE   | \n",
       "| balloon_15 | PURPLE  | SMALL   | DIP     | CHILD   | FALSE   | \n",
       "| balloon_16 | PURPLE  | LARGE   | STRETCH | ADULT   |  TRUE   | \n",
       "| balloon_17 | PURPLE  | LARGE   | STRETCH | CHILD   |  TRUE   | \n",
       "| balloon_18 | PURPLE  | LARGE   | DIP     | ADULT   |  TRUE   | \n",
       "| balloon_19 | PURPLE  | LARGE   | DIP     | CHILD   | FALSE   | \n",
       "| balloon_20 | PURPLE  | LARGE   | DIP     | CHILD   | FALSE   | \n",
       "\n",
       "\n"
      ],
      "text/plain": [
       "           color  size  act     age   inflated\n",
       "balloon_11 PURPLE SMALL STRETCH ADULT  TRUE   \n",
       "balloon_12 PURPLE SMALL STRETCH CHILD  TRUE   \n",
       "balloon_13 PURPLE SMALL DIP     ADULT  TRUE   \n",
       "balloon_14 PURPLE SMALL DIP     CHILD FALSE   \n",
       "balloon_15 PURPLE SMALL DIP     CHILD FALSE   \n",
       "balloon_16 PURPLE LARGE STRETCH ADULT  TRUE   \n",
       "balloon_17 PURPLE LARGE STRETCH CHILD  TRUE   \n",
       "balloon_18 PURPLE LARGE DIP     ADULT  TRUE   \n",
       "balloon_19 PURPLE LARGE DIP     CHILD FALSE   \n",
       "balloon_20 PURPLE LARGE DIP     CHILD FALSE   "
      ]
     },
     "metadata": {},
     "output_type": "display_data"
    }
   ],
   "source": [
    "balloons[balloons$color == 'PURPLE',]"
   ]
  },
  {
   "cell_type": "code",
   "execution_count": 23,
   "metadata": {},
   "outputs": [
    {
     "data": {
      "text/html": [
       "<table>\n",
       "<thead><tr><th></th><th scope=col>color</th><th scope=col>size</th><th scope=col>act</th><th scope=col>age</th><th scope=col>inflated</th></tr></thead>\n",
       "<tbody>\n",
       "\t<tr><th scope=row>balloon_3</th><td>YELLOW</td><td>SMALL </td><td>DIP   </td><td>ADULT </td><td> TRUE </td></tr>\n",
       "\t<tr><th scope=row>balloon_4</th><td>YELLOW</td><td>SMALL </td><td>DIP   </td><td>CHILD </td><td>FALSE </td></tr>\n",
       "\t<tr><th scope=row>balloon_5</th><td>YELLOW</td><td>SMALL </td><td>DIP   </td><td>CHILD </td><td>FALSE </td></tr>\n",
       "\t<tr><th scope=row>balloon_8</th><td>YELLOW</td><td>LARGE </td><td>DIP   </td><td>ADULT </td><td> TRUE </td></tr>\n",
       "\t<tr><th scope=row>balloon_9</th><td>YELLOW</td><td>LARGE </td><td>DIP   </td><td>CHILD </td><td>FALSE </td></tr>\n",
       "\t<tr><th scope=row>balloon_10</th><td>YELLOW</td><td>LARGE </td><td>DIP   </td><td>CHILD </td><td>FALSE </td></tr>\n",
       "\t<tr><th scope=row>balloon_13</th><td>PURPLE</td><td>SMALL </td><td>DIP   </td><td>ADULT </td><td> TRUE </td></tr>\n",
       "\t<tr><th scope=row>balloon_14</th><td>PURPLE</td><td>SMALL </td><td>DIP   </td><td>CHILD </td><td>FALSE </td></tr>\n",
       "\t<tr><th scope=row>balloon_15</th><td>PURPLE</td><td>SMALL </td><td>DIP   </td><td>CHILD </td><td>FALSE </td></tr>\n",
       "\t<tr><th scope=row>balloon_18</th><td>PURPLE</td><td>LARGE </td><td>DIP   </td><td>ADULT </td><td> TRUE </td></tr>\n",
       "\t<tr><th scope=row>balloon_19</th><td>PURPLE</td><td>LARGE </td><td>DIP   </td><td>CHILD </td><td>FALSE </td></tr>\n",
       "\t<tr><th scope=row>balloon_20</th><td>PURPLE</td><td>LARGE </td><td>DIP   </td><td>CHILD </td><td>FALSE </td></tr>\n",
       "</tbody>\n",
       "</table>\n"
      ],
      "text/latex": [
       "\\begin{tabular}{r|lllll}\n",
       "  & color & size & act & age & inflated\\\\\n",
       "\\hline\n",
       "\tballoon\\_3 & YELLOW & SMALL  & DIP    & ADULT  &  TRUE \\\\\n",
       "\tballoon\\_4 & YELLOW & SMALL  & DIP    & CHILD  & FALSE \\\\\n",
       "\tballoon\\_5 & YELLOW & SMALL  & DIP    & CHILD  & FALSE \\\\\n",
       "\tballoon\\_8 & YELLOW & LARGE  & DIP    & ADULT  &  TRUE \\\\\n",
       "\tballoon\\_9 & YELLOW & LARGE  & DIP    & CHILD  & FALSE \\\\\n",
       "\tballoon\\_10 & YELLOW & LARGE  & DIP    & CHILD  & FALSE \\\\\n",
       "\tballoon\\_13 & PURPLE & SMALL  & DIP    & ADULT  &  TRUE \\\\\n",
       "\tballoon\\_14 & PURPLE & SMALL  & DIP    & CHILD  & FALSE \\\\\n",
       "\tballoon\\_15 & PURPLE & SMALL  & DIP    & CHILD  & FALSE \\\\\n",
       "\tballoon\\_18 & PURPLE & LARGE  & DIP    & ADULT  &  TRUE \\\\\n",
       "\tballoon\\_19 & PURPLE & LARGE  & DIP    & CHILD  & FALSE \\\\\n",
       "\tballoon\\_20 & PURPLE & LARGE  & DIP    & CHILD  & FALSE \\\\\n",
       "\\end{tabular}\n"
      ],
      "text/markdown": [
       "\n",
       "| <!--/--> | color | size | act | age | inflated | \n",
       "|---|---|---|---|---|---|---|---|---|---|---|---|\n",
       "| balloon_3 | YELLOW | SMALL  | DIP    | ADULT  |  TRUE  | \n",
       "| balloon_4 | YELLOW | SMALL  | DIP    | CHILD  | FALSE  | \n",
       "| balloon_5 | YELLOW | SMALL  | DIP    | CHILD  | FALSE  | \n",
       "| balloon_8 | YELLOW | LARGE  | DIP    | ADULT  |  TRUE  | \n",
       "| balloon_9 | YELLOW | LARGE  | DIP    | CHILD  | FALSE  | \n",
       "| balloon_10 | YELLOW | LARGE  | DIP    | CHILD  | FALSE  | \n",
       "| balloon_13 | PURPLE | SMALL  | DIP    | ADULT  |  TRUE  | \n",
       "| balloon_14 | PURPLE | SMALL  | DIP    | CHILD  | FALSE  | \n",
       "| balloon_15 | PURPLE | SMALL  | DIP    | CHILD  | FALSE  | \n",
       "| balloon_18 | PURPLE | LARGE  | DIP    | ADULT  |  TRUE  | \n",
       "| balloon_19 | PURPLE | LARGE  | DIP    | CHILD  | FALSE  | \n",
       "| balloon_20 | PURPLE | LARGE  | DIP    | CHILD  | FALSE  | \n",
       "\n",
       "\n"
      ],
      "text/plain": [
       "           color  size  act age   inflated\n",
       "balloon_3  YELLOW SMALL DIP ADULT  TRUE   \n",
       "balloon_4  YELLOW SMALL DIP CHILD FALSE   \n",
       "balloon_5  YELLOW SMALL DIP CHILD FALSE   \n",
       "balloon_8  YELLOW LARGE DIP ADULT  TRUE   \n",
       "balloon_9  YELLOW LARGE DIP CHILD FALSE   \n",
       "balloon_10 YELLOW LARGE DIP CHILD FALSE   \n",
       "balloon_13 PURPLE SMALL DIP ADULT  TRUE   \n",
       "balloon_14 PURPLE SMALL DIP CHILD FALSE   \n",
       "balloon_15 PURPLE SMALL DIP CHILD FALSE   \n",
       "balloon_18 PURPLE LARGE DIP ADULT  TRUE   \n",
       "balloon_19 PURPLE LARGE DIP CHILD FALSE   \n",
       "balloon_20 PURPLE LARGE DIP CHILD FALSE   "
      ]
     },
     "metadata": {},
     "output_type": "display_data"
    }
   ],
   "source": [
    "balloons[balloons$act == 'DIP',]"
   ]
  },
  {
   "cell_type": "code",
   "execution_count": 24,
   "metadata": {},
   "outputs": [
    {
     "data": {
      "text/plain": [
       "    color       size         act        age      inflated      \n",
       " PURPLE:10   LARGE:10   DIP    :12   ADULT: 8   Mode :logical  \n",
       " YELLOW:10   SMALL:10   STRETCH: 8   CHILD:12   FALSE:8        \n",
       "                                                TRUE :12       \n",
       "                                                NA's :0        "
      ]
     },
     "metadata": {},
     "output_type": "display_data"
    }
   ],
   "source": [
    "summary(balloons)"
   ]
  },
  {
   "cell_type": "markdown",
   "metadata": {},
   "source": [
    "## Practice"
   ]
  },
  {
   "cell_type": "markdown",
   "metadata": {},
   "source": [
    "#### Display the yellow balloons"
   ]
  },
  {
   "cell_type": "code",
   "execution_count": 27,
   "metadata": {},
   "outputs": [
    {
     "data": {
      "text/html": [
       "<table>\n",
       "<thead><tr><th></th><th scope=col>color</th><th scope=col>size</th><th scope=col>act</th><th scope=col>age</th><th scope=col>inflated</th></tr></thead>\n",
       "<tbody>\n",
       "\t<tr><th scope=row>balloon_1</th><td>YELLOW </td><td>SMALL  </td><td>STRETCH</td><td>ADULT  </td><td> TRUE  </td></tr>\n",
       "\t<tr><th scope=row>balloon_2</th><td>YELLOW </td><td>SMALL  </td><td>STRETCH</td><td>CHILD  </td><td> TRUE  </td></tr>\n",
       "\t<tr><th scope=row>balloon_3</th><td>YELLOW </td><td>SMALL  </td><td>DIP    </td><td>ADULT  </td><td> TRUE  </td></tr>\n",
       "\t<tr><th scope=row>balloon_4</th><td>YELLOW </td><td>SMALL  </td><td>DIP    </td><td>CHILD  </td><td>FALSE  </td></tr>\n",
       "\t<tr><th scope=row>balloon_5</th><td>YELLOW </td><td>SMALL  </td><td>DIP    </td><td>CHILD  </td><td>FALSE  </td></tr>\n",
       "\t<tr><th scope=row>balloon_6</th><td>YELLOW </td><td>LARGE  </td><td>STRETCH</td><td>ADULT  </td><td> TRUE  </td></tr>\n",
       "\t<tr><th scope=row>balloon_7</th><td>YELLOW </td><td>LARGE  </td><td>STRETCH</td><td>CHILD  </td><td> TRUE  </td></tr>\n",
       "\t<tr><th scope=row>balloon_8</th><td>YELLOW </td><td>LARGE  </td><td>DIP    </td><td>ADULT  </td><td> TRUE  </td></tr>\n",
       "\t<tr><th scope=row>balloon_9</th><td>YELLOW </td><td>LARGE  </td><td>DIP    </td><td>CHILD  </td><td>FALSE  </td></tr>\n",
       "\t<tr><th scope=row>balloon_10</th><td>YELLOW </td><td>LARGE  </td><td>DIP    </td><td>CHILD  </td><td>FALSE  </td></tr>\n",
       "</tbody>\n",
       "</table>\n"
      ],
      "text/latex": [
       "\\begin{tabular}{r|lllll}\n",
       "  & color & size & act & age & inflated\\\\\n",
       "\\hline\n",
       "\tballoon\\_1 & YELLOW  & SMALL   & STRETCH & ADULT   &  TRUE  \\\\\n",
       "\tballoon\\_2 & YELLOW  & SMALL   & STRETCH & CHILD   &  TRUE  \\\\\n",
       "\tballoon\\_3 & YELLOW  & SMALL   & DIP     & ADULT   &  TRUE  \\\\\n",
       "\tballoon\\_4 & YELLOW  & SMALL   & DIP     & CHILD   & FALSE  \\\\\n",
       "\tballoon\\_5 & YELLOW  & SMALL   & DIP     & CHILD   & FALSE  \\\\\n",
       "\tballoon\\_6 & YELLOW  & LARGE   & STRETCH & ADULT   &  TRUE  \\\\\n",
       "\tballoon\\_7 & YELLOW  & LARGE   & STRETCH & CHILD   &  TRUE  \\\\\n",
       "\tballoon\\_8 & YELLOW  & LARGE   & DIP     & ADULT   &  TRUE  \\\\\n",
       "\tballoon\\_9 & YELLOW  & LARGE   & DIP     & CHILD   & FALSE  \\\\\n",
       "\tballoon\\_10 & YELLOW  & LARGE   & DIP     & CHILD   & FALSE  \\\\\n",
       "\\end{tabular}\n"
      ],
      "text/markdown": [
       "\n",
       "| <!--/--> | color | size | act | age | inflated | \n",
       "|---|---|---|---|---|---|---|---|---|---|\n",
       "| balloon_1 | YELLOW  | SMALL   | STRETCH | ADULT   |  TRUE   | \n",
       "| balloon_2 | YELLOW  | SMALL   | STRETCH | CHILD   |  TRUE   | \n",
       "| balloon_3 | YELLOW  | SMALL   | DIP     | ADULT   |  TRUE   | \n",
       "| balloon_4 | YELLOW  | SMALL   | DIP     | CHILD   | FALSE   | \n",
       "| balloon_5 | YELLOW  | SMALL   | DIP     | CHILD   | FALSE   | \n",
       "| balloon_6 | YELLOW  | LARGE   | STRETCH | ADULT   |  TRUE   | \n",
       "| balloon_7 | YELLOW  | LARGE   | STRETCH | CHILD   |  TRUE   | \n",
       "| balloon_8 | YELLOW  | LARGE   | DIP     | ADULT   |  TRUE   | \n",
       "| balloon_9 | YELLOW  | LARGE   | DIP     | CHILD   | FALSE   | \n",
       "| balloon_10 | YELLOW  | LARGE   | DIP     | CHILD   | FALSE   | \n",
       "\n",
       "\n"
      ],
      "text/plain": [
       "           color  size  act     age   inflated\n",
       "balloon_1  YELLOW SMALL STRETCH ADULT  TRUE   \n",
       "balloon_2  YELLOW SMALL STRETCH CHILD  TRUE   \n",
       "balloon_3  YELLOW SMALL DIP     ADULT  TRUE   \n",
       "balloon_4  YELLOW SMALL DIP     CHILD FALSE   \n",
       "balloon_5  YELLOW SMALL DIP     CHILD FALSE   \n",
       "balloon_6  YELLOW LARGE STRETCH ADULT  TRUE   \n",
       "balloon_7  YELLOW LARGE STRETCH CHILD  TRUE   \n",
       "balloon_8  YELLOW LARGE DIP     ADULT  TRUE   \n",
       "balloon_9  YELLOW LARGE DIP     CHILD FALSE   \n",
       "balloon_10 YELLOW LARGE DIP     CHILD FALSE   "
      ]
     },
     "metadata": {},
     "output_type": "display_data"
    }
   ],
   "source": [
    "balloons[balloons$color == 'YELLOW',]"
   ]
  },
  {
   "cell_type": "markdown",
   "metadata": {},
   "source": [
    "#### Display the inflated balloons"
   ]
  },
  {
   "cell_type": "code",
   "execution_count": 29,
   "metadata": {},
   "outputs": [
    {
     "data": {
      "text/html": [
       "<table>\n",
       "<thead><tr><th></th><th scope=col>color</th><th scope=col>size</th><th scope=col>act</th><th scope=col>age</th><th scope=col>inflated</th></tr></thead>\n",
       "<tbody>\n",
       "\t<tr><th scope=row>balloon_1</th><td>YELLOW </td><td>SMALL  </td><td>STRETCH</td><td>ADULT  </td><td>TRUE   </td></tr>\n",
       "\t<tr><th scope=row>balloon_2</th><td>YELLOW </td><td>SMALL  </td><td>STRETCH</td><td>CHILD  </td><td>TRUE   </td></tr>\n",
       "\t<tr><th scope=row>balloon_3</th><td>YELLOW </td><td>SMALL  </td><td>DIP    </td><td>ADULT  </td><td>TRUE   </td></tr>\n",
       "\t<tr><th scope=row>balloon_6</th><td>YELLOW </td><td>LARGE  </td><td>STRETCH</td><td>ADULT  </td><td>TRUE   </td></tr>\n",
       "\t<tr><th scope=row>balloon_7</th><td>YELLOW </td><td>LARGE  </td><td>STRETCH</td><td>CHILD  </td><td>TRUE   </td></tr>\n",
       "\t<tr><th scope=row>balloon_8</th><td>YELLOW </td><td>LARGE  </td><td>DIP    </td><td>ADULT  </td><td>TRUE   </td></tr>\n",
       "\t<tr><th scope=row>balloon_11</th><td>PURPLE </td><td>SMALL  </td><td>STRETCH</td><td>ADULT  </td><td>TRUE   </td></tr>\n",
       "\t<tr><th scope=row>balloon_12</th><td>PURPLE </td><td>SMALL  </td><td>STRETCH</td><td>CHILD  </td><td>TRUE   </td></tr>\n",
       "\t<tr><th scope=row>balloon_13</th><td>PURPLE </td><td>SMALL  </td><td>DIP    </td><td>ADULT  </td><td>TRUE   </td></tr>\n",
       "\t<tr><th scope=row>balloon_16</th><td>PURPLE </td><td>LARGE  </td><td>STRETCH</td><td>ADULT  </td><td>TRUE   </td></tr>\n",
       "\t<tr><th scope=row>balloon_17</th><td>PURPLE </td><td>LARGE  </td><td>STRETCH</td><td>CHILD  </td><td>TRUE   </td></tr>\n",
       "\t<tr><th scope=row>balloon_18</th><td>PURPLE </td><td>LARGE  </td><td>DIP    </td><td>ADULT  </td><td>TRUE   </td></tr>\n",
       "</tbody>\n",
       "</table>\n"
      ],
      "text/latex": [
       "\\begin{tabular}{r|lllll}\n",
       "  & color & size & act & age & inflated\\\\\n",
       "\\hline\n",
       "\tballoon\\_1 & YELLOW  & SMALL   & STRETCH & ADULT   & TRUE   \\\\\n",
       "\tballoon\\_2 & YELLOW  & SMALL   & STRETCH & CHILD   & TRUE   \\\\\n",
       "\tballoon\\_3 & YELLOW  & SMALL   & DIP     & ADULT   & TRUE   \\\\\n",
       "\tballoon\\_6 & YELLOW  & LARGE   & STRETCH & ADULT   & TRUE   \\\\\n",
       "\tballoon\\_7 & YELLOW  & LARGE   & STRETCH & CHILD   & TRUE   \\\\\n",
       "\tballoon\\_8 & YELLOW  & LARGE   & DIP     & ADULT   & TRUE   \\\\\n",
       "\tballoon\\_11 & PURPLE  & SMALL   & STRETCH & ADULT   & TRUE   \\\\\n",
       "\tballoon\\_12 & PURPLE  & SMALL   & STRETCH & CHILD   & TRUE   \\\\\n",
       "\tballoon\\_13 & PURPLE  & SMALL   & DIP     & ADULT   & TRUE   \\\\\n",
       "\tballoon\\_16 & PURPLE  & LARGE   & STRETCH & ADULT   & TRUE   \\\\\n",
       "\tballoon\\_17 & PURPLE  & LARGE   & STRETCH & CHILD   & TRUE   \\\\\n",
       "\tballoon\\_18 & PURPLE  & LARGE   & DIP     & ADULT   & TRUE   \\\\\n",
       "\\end{tabular}\n"
      ],
      "text/markdown": [
       "\n",
       "| <!--/--> | color | size | act | age | inflated | \n",
       "|---|---|---|---|---|---|---|---|---|---|---|---|\n",
       "| balloon_1 | YELLOW  | SMALL   | STRETCH | ADULT   | TRUE    | \n",
       "| balloon_2 | YELLOW  | SMALL   | STRETCH | CHILD   | TRUE    | \n",
       "| balloon_3 | YELLOW  | SMALL   | DIP     | ADULT   | TRUE    | \n",
       "| balloon_6 | YELLOW  | LARGE   | STRETCH | ADULT   | TRUE    | \n",
       "| balloon_7 | YELLOW  | LARGE   | STRETCH | CHILD   | TRUE    | \n",
       "| balloon_8 | YELLOW  | LARGE   | DIP     | ADULT   | TRUE    | \n",
       "| balloon_11 | PURPLE  | SMALL   | STRETCH | ADULT   | TRUE    | \n",
       "| balloon_12 | PURPLE  | SMALL   | STRETCH | CHILD   | TRUE    | \n",
       "| balloon_13 | PURPLE  | SMALL   | DIP     | ADULT   | TRUE    | \n",
       "| balloon_16 | PURPLE  | LARGE   | STRETCH | ADULT   | TRUE    | \n",
       "| balloon_17 | PURPLE  | LARGE   | STRETCH | CHILD   | TRUE    | \n",
       "| balloon_18 | PURPLE  | LARGE   | DIP     | ADULT   | TRUE    | \n",
       "\n",
       "\n"
      ],
      "text/plain": [
       "           color  size  act     age   inflated\n",
       "balloon_1  YELLOW SMALL STRETCH ADULT TRUE    \n",
       "balloon_2  YELLOW SMALL STRETCH CHILD TRUE    \n",
       "balloon_3  YELLOW SMALL DIP     ADULT TRUE    \n",
       "balloon_6  YELLOW LARGE STRETCH ADULT TRUE    \n",
       "balloon_7  YELLOW LARGE STRETCH CHILD TRUE    \n",
       "balloon_8  YELLOW LARGE DIP     ADULT TRUE    \n",
       "balloon_11 PURPLE SMALL STRETCH ADULT TRUE    \n",
       "balloon_12 PURPLE SMALL STRETCH CHILD TRUE    \n",
       "balloon_13 PURPLE SMALL DIP     ADULT TRUE    \n",
       "balloon_16 PURPLE LARGE STRETCH ADULT TRUE    \n",
       "balloon_17 PURPLE LARGE STRETCH CHILD TRUE    \n",
       "balloon_18 PURPLE LARGE DIP     ADULT TRUE    "
      ]
     },
     "metadata": {},
     "output_type": "display_data"
    }
   ],
   "source": [
    "balloons[balloons$inflated == 'TRUE',]"
   ]
  },
  {
   "cell_type": "markdown",
   "metadata": {},
   "source": [
    "#### Display the stretching balloons"
   ]
  },
  {
   "cell_type": "code",
   "execution_count": 30,
   "metadata": {},
   "outputs": [
    {
     "data": {
      "text/html": [
       "<table>\n",
       "<thead><tr><th></th><th scope=col>color</th><th scope=col>size</th><th scope=col>act</th><th scope=col>age</th><th scope=col>inflated</th></tr></thead>\n",
       "<tbody>\n",
       "\t<tr><th scope=row>balloon_1</th><td>YELLOW </td><td>SMALL  </td><td>STRETCH</td><td>ADULT  </td><td>TRUE   </td></tr>\n",
       "\t<tr><th scope=row>balloon_2</th><td>YELLOW </td><td>SMALL  </td><td>STRETCH</td><td>CHILD  </td><td>TRUE   </td></tr>\n",
       "\t<tr><th scope=row>balloon_6</th><td>YELLOW </td><td>LARGE  </td><td>STRETCH</td><td>ADULT  </td><td>TRUE   </td></tr>\n",
       "\t<tr><th scope=row>balloon_7</th><td>YELLOW </td><td>LARGE  </td><td>STRETCH</td><td>CHILD  </td><td>TRUE   </td></tr>\n",
       "\t<tr><th scope=row>balloon_11</th><td>PURPLE </td><td>SMALL  </td><td>STRETCH</td><td>ADULT  </td><td>TRUE   </td></tr>\n",
       "\t<tr><th scope=row>balloon_12</th><td>PURPLE </td><td>SMALL  </td><td>STRETCH</td><td>CHILD  </td><td>TRUE   </td></tr>\n",
       "\t<tr><th scope=row>balloon_16</th><td>PURPLE </td><td>LARGE  </td><td>STRETCH</td><td>ADULT  </td><td>TRUE   </td></tr>\n",
       "\t<tr><th scope=row>balloon_17</th><td>PURPLE </td><td>LARGE  </td><td>STRETCH</td><td>CHILD  </td><td>TRUE   </td></tr>\n",
       "</tbody>\n",
       "</table>\n"
      ],
      "text/latex": [
       "\\begin{tabular}{r|lllll}\n",
       "  & color & size & act & age & inflated\\\\\n",
       "\\hline\n",
       "\tballoon\\_1 & YELLOW  & SMALL   & STRETCH & ADULT   & TRUE   \\\\\n",
       "\tballoon\\_2 & YELLOW  & SMALL   & STRETCH & CHILD   & TRUE   \\\\\n",
       "\tballoon\\_6 & YELLOW  & LARGE   & STRETCH & ADULT   & TRUE   \\\\\n",
       "\tballoon\\_7 & YELLOW  & LARGE   & STRETCH & CHILD   & TRUE   \\\\\n",
       "\tballoon\\_11 & PURPLE  & SMALL   & STRETCH & ADULT   & TRUE   \\\\\n",
       "\tballoon\\_12 & PURPLE  & SMALL   & STRETCH & CHILD   & TRUE   \\\\\n",
       "\tballoon\\_16 & PURPLE  & LARGE   & STRETCH & ADULT   & TRUE   \\\\\n",
       "\tballoon\\_17 & PURPLE  & LARGE   & STRETCH & CHILD   & TRUE   \\\\\n",
       "\\end{tabular}\n"
      ],
      "text/markdown": [
       "\n",
       "| <!--/--> | color | size | act | age | inflated | \n",
       "|---|---|---|---|---|---|---|---|\n",
       "| balloon_1 | YELLOW  | SMALL   | STRETCH | ADULT   | TRUE    | \n",
       "| balloon_2 | YELLOW  | SMALL   | STRETCH | CHILD   | TRUE    | \n",
       "| balloon_6 | YELLOW  | LARGE   | STRETCH | ADULT   | TRUE    | \n",
       "| balloon_7 | YELLOW  | LARGE   | STRETCH | CHILD   | TRUE    | \n",
       "| balloon_11 | PURPLE  | SMALL   | STRETCH | ADULT   | TRUE    | \n",
       "| balloon_12 | PURPLE  | SMALL   | STRETCH | CHILD   | TRUE    | \n",
       "| balloon_16 | PURPLE  | LARGE   | STRETCH | ADULT   | TRUE    | \n",
       "| balloon_17 | PURPLE  | LARGE   | STRETCH | CHILD   | TRUE    | \n",
       "\n",
       "\n"
      ],
      "text/plain": [
       "           color  size  act     age   inflated\n",
       "balloon_1  YELLOW SMALL STRETCH ADULT TRUE    \n",
       "balloon_2  YELLOW SMALL STRETCH CHILD TRUE    \n",
       "balloon_6  YELLOW LARGE STRETCH ADULT TRUE    \n",
       "balloon_7  YELLOW LARGE STRETCH CHILD TRUE    \n",
       "balloon_11 PURPLE SMALL STRETCH ADULT TRUE    \n",
       "balloon_12 PURPLE SMALL STRETCH CHILD TRUE    \n",
       "balloon_16 PURPLE LARGE STRETCH ADULT TRUE    \n",
       "balloon_17 PURPLE LARGE STRETCH CHILD TRUE    "
      ]
     },
     "metadata": {},
     "output_type": "display_data"
    }
   ],
   "source": [
    "balloons[balloons$act == 'STRETCH',]"
   ]
  },
  {
   "cell_type": "markdown",
   "metadata": {},
   "source": [
    "#### Display the large balloons"
   ]
  },
  {
   "cell_type": "code",
   "execution_count": null,
   "metadata": {},
   "outputs": [],
   "source": []
  },
  {
   "cell_type": "markdown",
   "metadata": {},
   "source": [
    "#### Display the yellow balloons"
   ]
  },
  {
   "cell_type": "code",
   "execution_count": null,
   "metadata": {},
   "outputs": [],
   "source": []
  },
  {
   "cell_type": "markdown",
   "metadata": {},
   "source": [
    "#### Display just the color and size columns"
   ]
  },
  {
   "cell_type": "code",
   "execution_count": 31,
   "metadata": {},
   "outputs": [
    {
     "data": {
      "text/html": [
       "<table>\n",
       "<thead><tr><th></th><th scope=col>color</th><th scope=col>size</th></tr></thead>\n",
       "<tbody>\n",
       "\t<tr><th scope=row>balloon_1</th><td>YELLOW</td><td>SMALL </td></tr>\n",
       "\t<tr><th scope=row>balloon_2</th><td>YELLOW</td><td>SMALL </td></tr>\n",
       "\t<tr><th scope=row>balloon_3</th><td>YELLOW</td><td>SMALL </td></tr>\n",
       "\t<tr><th scope=row>balloon_4</th><td>YELLOW</td><td>SMALL </td></tr>\n",
       "\t<tr><th scope=row>balloon_5</th><td>YELLOW</td><td>SMALL </td></tr>\n",
       "\t<tr><th scope=row>balloon_6</th><td>YELLOW</td><td>LARGE </td></tr>\n",
       "\t<tr><th scope=row>balloon_7</th><td>YELLOW</td><td>LARGE </td></tr>\n",
       "\t<tr><th scope=row>balloon_8</th><td>YELLOW</td><td>LARGE </td></tr>\n",
       "\t<tr><th scope=row>balloon_9</th><td>YELLOW</td><td>LARGE </td></tr>\n",
       "\t<tr><th scope=row>balloon_10</th><td>YELLOW</td><td>LARGE </td></tr>\n",
       "\t<tr><th scope=row>balloon_11</th><td>PURPLE</td><td>SMALL </td></tr>\n",
       "\t<tr><th scope=row>balloon_12</th><td>PURPLE</td><td>SMALL </td></tr>\n",
       "\t<tr><th scope=row>balloon_13</th><td>PURPLE</td><td>SMALL </td></tr>\n",
       "\t<tr><th scope=row>balloon_14</th><td>PURPLE</td><td>SMALL </td></tr>\n",
       "\t<tr><th scope=row>balloon_15</th><td>PURPLE</td><td>SMALL </td></tr>\n",
       "\t<tr><th scope=row>balloon_16</th><td>PURPLE</td><td>LARGE </td></tr>\n",
       "\t<tr><th scope=row>balloon_17</th><td>PURPLE</td><td>LARGE </td></tr>\n",
       "\t<tr><th scope=row>balloon_18</th><td>PURPLE</td><td>LARGE </td></tr>\n",
       "\t<tr><th scope=row>balloon_19</th><td>PURPLE</td><td>LARGE </td></tr>\n",
       "\t<tr><th scope=row>balloon_20</th><td>PURPLE</td><td>LARGE </td></tr>\n",
       "</tbody>\n",
       "</table>\n"
      ],
      "text/latex": [
       "\\begin{tabular}{r|ll}\n",
       "  & color & size\\\\\n",
       "\\hline\n",
       "\tballoon\\_1 & YELLOW & SMALL \\\\\n",
       "\tballoon\\_2 & YELLOW & SMALL \\\\\n",
       "\tballoon\\_3 & YELLOW & SMALL \\\\\n",
       "\tballoon\\_4 & YELLOW & SMALL \\\\\n",
       "\tballoon\\_5 & YELLOW & SMALL \\\\\n",
       "\tballoon\\_6 & YELLOW & LARGE \\\\\n",
       "\tballoon\\_7 & YELLOW & LARGE \\\\\n",
       "\tballoon\\_8 & YELLOW & LARGE \\\\\n",
       "\tballoon\\_9 & YELLOW & LARGE \\\\\n",
       "\tballoon\\_10 & YELLOW & LARGE \\\\\n",
       "\tballoon\\_11 & PURPLE & SMALL \\\\\n",
       "\tballoon\\_12 & PURPLE & SMALL \\\\\n",
       "\tballoon\\_13 & PURPLE & SMALL \\\\\n",
       "\tballoon\\_14 & PURPLE & SMALL \\\\\n",
       "\tballoon\\_15 & PURPLE & SMALL \\\\\n",
       "\tballoon\\_16 & PURPLE & LARGE \\\\\n",
       "\tballoon\\_17 & PURPLE & LARGE \\\\\n",
       "\tballoon\\_18 & PURPLE & LARGE \\\\\n",
       "\tballoon\\_19 & PURPLE & LARGE \\\\\n",
       "\tballoon\\_20 & PURPLE & LARGE \\\\\n",
       "\\end{tabular}\n"
      ],
      "text/markdown": [
       "\n",
       "| <!--/--> | color | size | \n",
       "|---|---|---|---|---|---|---|---|---|---|---|---|---|---|---|---|---|---|---|---|\n",
       "| balloon_1 | YELLOW | SMALL  | \n",
       "| balloon_2 | YELLOW | SMALL  | \n",
       "| balloon_3 | YELLOW | SMALL  | \n",
       "| balloon_4 | YELLOW | SMALL  | \n",
       "| balloon_5 | YELLOW | SMALL  | \n",
       "| balloon_6 | YELLOW | LARGE  | \n",
       "| balloon_7 | YELLOW | LARGE  | \n",
       "| balloon_8 | YELLOW | LARGE  | \n",
       "| balloon_9 | YELLOW | LARGE  | \n",
       "| balloon_10 | YELLOW | LARGE  | \n",
       "| balloon_11 | PURPLE | SMALL  | \n",
       "| balloon_12 | PURPLE | SMALL  | \n",
       "| balloon_13 | PURPLE | SMALL  | \n",
       "| balloon_14 | PURPLE | SMALL  | \n",
       "| balloon_15 | PURPLE | SMALL  | \n",
       "| balloon_16 | PURPLE | LARGE  | \n",
       "| balloon_17 | PURPLE | LARGE  | \n",
       "| balloon_18 | PURPLE | LARGE  | \n",
       "| balloon_19 | PURPLE | LARGE  | \n",
       "| balloon_20 | PURPLE | LARGE  | \n",
       "\n",
       "\n"
      ],
      "text/plain": [
       "           color  size \n",
       "balloon_1  YELLOW SMALL\n",
       "balloon_2  YELLOW SMALL\n",
       "balloon_3  YELLOW SMALL\n",
       "balloon_4  YELLOW SMALL\n",
       "balloon_5  YELLOW SMALL\n",
       "balloon_6  YELLOW LARGE\n",
       "balloon_7  YELLOW LARGE\n",
       "balloon_8  YELLOW LARGE\n",
       "balloon_9  YELLOW LARGE\n",
       "balloon_10 YELLOW LARGE\n",
       "balloon_11 PURPLE SMALL\n",
       "balloon_12 PURPLE SMALL\n",
       "balloon_13 PURPLE SMALL\n",
       "balloon_14 PURPLE SMALL\n",
       "balloon_15 PURPLE SMALL\n",
       "balloon_16 PURPLE LARGE\n",
       "balloon_17 PURPLE LARGE\n",
       "balloon_18 PURPLE LARGE\n",
       "balloon_19 PURPLE LARGE\n",
       "balloon_20 PURPLE LARGE"
      ]
     },
     "metadata": {},
     "output_type": "display_data"
    }
   ],
   "source": [
    "balloons[,c(\"color\",\"size\")]"
   ]
  },
  {
   "cell_type": "markdown",
   "metadata": {},
   "source": [
    "#### Display just the color and size columns for large, yellow balloons"
   ]
  },
  {
   "cell_type": "code",
   "execution_count": 32,
   "metadata": {},
   "outputs": [
    {
     "data": {
      "text/html": [
       "<table>\n",
       "<thead><tr><th></th><th scope=col>color</th><th scope=col>size</th></tr></thead>\n",
       "<tbody>\n",
       "\t<tr><th scope=row>balloon_6</th><td>YELLOW</td><td>LARGE </td></tr>\n",
       "\t<tr><th scope=row>balloon_7</th><td>YELLOW</td><td>LARGE </td></tr>\n",
       "\t<tr><th scope=row>balloon_8</th><td>YELLOW</td><td>LARGE </td></tr>\n",
       "\t<tr><th scope=row>balloon_9</th><td>YELLOW</td><td>LARGE </td></tr>\n",
       "\t<tr><th scope=row>balloon_10</th><td>YELLOW</td><td>LARGE </td></tr>\n",
       "</tbody>\n",
       "</table>\n"
      ],
      "text/latex": [
       "\\begin{tabular}{r|ll}\n",
       "  & color & size\\\\\n",
       "\\hline\n",
       "\tballoon\\_6 & YELLOW & LARGE \\\\\n",
       "\tballoon\\_7 & YELLOW & LARGE \\\\\n",
       "\tballoon\\_8 & YELLOW & LARGE \\\\\n",
       "\tballoon\\_9 & YELLOW & LARGE \\\\\n",
       "\tballoon\\_10 & YELLOW & LARGE \\\\\n",
       "\\end{tabular}\n"
      ],
      "text/markdown": [
       "\n",
       "| <!--/--> | color | size | \n",
       "|---|---|---|---|---|\n",
       "| balloon_6 | YELLOW | LARGE  | \n",
       "| balloon_7 | YELLOW | LARGE  | \n",
       "| balloon_8 | YELLOW | LARGE  | \n",
       "| balloon_9 | YELLOW | LARGE  | \n",
       "| balloon_10 | YELLOW | LARGE  | \n",
       "\n",
       "\n"
      ],
      "text/plain": [
       "           color  size \n",
       "balloon_6  YELLOW LARGE\n",
       "balloon_7  YELLOW LARGE\n",
       "balloon_8  YELLOW LARGE\n",
       "balloon_9  YELLOW LARGE\n",
       "balloon_10 YELLOW LARGE"
      ]
     },
     "metadata": {},
     "output_type": "display_data"
    }
   ],
   "source": [
    "balloons[balloons$size == \"LARGE\" & balloons$color == \"YELLOW\",c(\"color\",\"size\")]"
   ]
  },
  {
   "cell_type": "code",
   "execution_count": null,
   "metadata": {},
   "outputs": [],
   "source": []
  }
 ],
 "metadata": {
  "kernelspec": {
   "display_name": "R",
   "language": "R",
   "name": "ir"
  },
  "language_info": {
   "codemirror_mode": "r",
   "file_extension": ".r",
   "mimetype": "text/x-r-source",
   "name": "R",
   "pygments_lexer": "r",
   "version": "3.3.2"
  }
 },
 "nbformat": 4,
 "nbformat_minor": 2
}
